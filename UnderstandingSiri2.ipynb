{
  "nbformat": 4,
  "nbformat_minor": 0,
  "metadata": {
    "colab": {
      "name": "UnderstandingSiri2.ipynb",
      "provenance": [],
      "collapsed_sections": [],
      "toc_visible": true,
      "include_colab_link": true
    },
    "kernelspec": {
      "name": "python3",
      "display_name": "Python 3"
    },
    "accelerator": "GPU",
    "widgets": {
      "application/vnd.jupyter.widget-state+json": {
        "2d1b9c0b5e734739929513309108e2ef": {
          "model_module": "@jupyter-widgets/controls",
          "model_name": "HBoxModel",
          "state": {
            "_view_name": "HBoxView",
            "_dom_classes": [],
            "_model_name": "HBoxModel",
            "_view_module": "@jupyter-widgets/controls",
            "_model_module_version": "1.5.0",
            "_view_count": null,
            "_view_module_version": "1.5.0",
            "box_style": "",
            "layout": "IPY_MODEL_4bc2b1215b6f41e09771742d6ceeb501",
            "_model_module": "@jupyter-widgets/controls",
            "children": [
              "IPY_MODEL_58f31ea588284b9eb9458b21baff59fd",
              "IPY_MODEL_09c80e45a5e242c68cdb54f888fe5323"
            ]
          },
          "model_module_version": "1.5.0"
        },
        "4bc2b1215b6f41e09771742d6ceeb501": {
          "model_module": "@jupyter-widgets/base",
          "model_name": "LayoutModel",
          "state": {
            "_view_name": "LayoutView",
            "grid_template_rows": null,
            "right": null,
            "justify_content": null,
            "_view_module": "@jupyter-widgets/base",
            "overflow": null,
            "_model_module_version": "1.2.0",
            "_view_count": null,
            "flex_flow": null,
            "width": null,
            "min_width": null,
            "border": null,
            "align_items": null,
            "bottom": null,
            "_model_module": "@jupyter-widgets/base",
            "top": null,
            "grid_column": null,
            "overflow_y": null,
            "overflow_x": null,
            "grid_auto_flow": null,
            "grid_area": null,
            "grid_template_columns": null,
            "flex": null,
            "_model_name": "LayoutModel",
            "justify_items": null,
            "grid_row": null,
            "max_height": null,
            "align_content": null,
            "visibility": null,
            "align_self": null,
            "height": null,
            "min_height": null,
            "padding": null,
            "grid_auto_rows": null,
            "grid_gap": null,
            "max_width": null,
            "order": null,
            "_view_module_version": "1.2.0",
            "grid_template_areas": null,
            "object_position": null,
            "object_fit": null,
            "grid_auto_columns": null,
            "margin": null,
            "display": null,
            "left": null
          },
          "model_module_version": "1.2.0"
        },
        "58f31ea588284b9eb9458b21baff59fd": {
          "model_module": "@jupyter-widgets/controls",
          "model_name": "FloatProgressModel",
          "state": {
            "_view_name": "ProgressView",
            "style": "IPY_MODEL_ab171590306740aeadb699e31069ca93",
            "_dom_classes": [],
            "description": "Downloading: 100%",
            "_model_name": "FloatProgressModel",
            "bar_style": "success",
            "max": 213450,
            "_view_module": "@jupyter-widgets/controls",
            "_model_module_version": "1.5.0",
            "value": 213450,
            "_view_count": null,
            "_view_module_version": "1.5.0",
            "orientation": "horizontal",
            "min": 0,
            "description_tooltip": null,
            "_model_module": "@jupyter-widgets/controls",
            "layout": "IPY_MODEL_18412d7231314d2b9a854ba81b94b03e"
          },
          "model_module_version": "1.5.0"
        },
        "09c80e45a5e242c68cdb54f888fe5323": {
          "model_module": "@jupyter-widgets/controls",
          "model_name": "HTMLModel",
          "state": {
            "_view_name": "HTMLView",
            "style": "IPY_MODEL_0ab2cfbeba6f4ec19dd73e609d05f306",
            "_dom_classes": [],
            "description": "",
            "_model_name": "HTMLModel",
            "placeholder": "​",
            "_view_module": "@jupyter-widgets/controls",
            "_model_module_version": "1.5.0",
            "value": " 213k/213k [00:00&lt;00:00, 1.40MB/s]",
            "_view_count": null,
            "_view_module_version": "1.5.0",
            "description_tooltip": null,
            "_model_module": "@jupyter-widgets/controls",
            "layout": "IPY_MODEL_b1295d1af06e4b9291ec29c73563059b"
          },
          "model_module_version": "1.5.0"
        },
        "ab171590306740aeadb699e31069ca93": {
          "model_module": "@jupyter-widgets/controls",
          "model_name": "ProgressStyleModel",
          "state": {
            "_view_name": "StyleView",
            "_model_name": "ProgressStyleModel",
            "description_width": "initial",
            "_view_module": "@jupyter-widgets/base",
            "_model_module_version": "1.5.0",
            "_view_count": null,
            "_view_module_version": "1.2.0",
            "bar_color": null,
            "_model_module": "@jupyter-widgets/controls"
          },
          "model_module_version": "1.5.0"
        },
        "18412d7231314d2b9a854ba81b94b03e": {
          "model_module": "@jupyter-widgets/base",
          "model_name": "LayoutModel",
          "state": {
            "_view_name": "LayoutView",
            "grid_template_rows": null,
            "right": null,
            "justify_content": null,
            "_view_module": "@jupyter-widgets/base",
            "overflow": null,
            "_model_module_version": "1.2.0",
            "_view_count": null,
            "flex_flow": null,
            "width": null,
            "min_width": null,
            "border": null,
            "align_items": null,
            "bottom": null,
            "_model_module": "@jupyter-widgets/base",
            "top": null,
            "grid_column": null,
            "overflow_y": null,
            "overflow_x": null,
            "grid_auto_flow": null,
            "grid_area": null,
            "grid_template_columns": null,
            "flex": null,
            "_model_name": "LayoutModel",
            "justify_items": null,
            "grid_row": null,
            "max_height": null,
            "align_content": null,
            "visibility": null,
            "align_self": null,
            "height": null,
            "min_height": null,
            "padding": null,
            "grid_auto_rows": null,
            "grid_gap": null,
            "max_width": null,
            "order": null,
            "_view_module_version": "1.2.0",
            "grid_template_areas": null,
            "object_position": null,
            "object_fit": null,
            "grid_auto_columns": null,
            "margin": null,
            "display": null,
            "left": null
          },
          "model_module_version": "1.2.0"
        },
        "0ab2cfbeba6f4ec19dd73e609d05f306": {
          "model_module": "@jupyter-widgets/controls",
          "model_name": "DescriptionStyleModel",
          "state": {
            "_view_name": "StyleView",
            "_model_name": "DescriptionStyleModel",
            "description_width": "",
            "_view_module": "@jupyter-widgets/base",
            "_model_module_version": "1.5.0",
            "_view_count": null,
            "_view_module_version": "1.2.0",
            "_model_module": "@jupyter-widgets/controls"
          },
          "model_module_version": "1.5.0"
        },
        "b1295d1af06e4b9291ec29c73563059b": {
          "model_module": "@jupyter-widgets/base",
          "model_name": "LayoutModel",
          "state": {
            "_view_name": "LayoutView",
            "grid_template_rows": null,
            "right": null,
            "justify_content": null,
            "_view_module": "@jupyter-widgets/base",
            "overflow": null,
            "_model_module_version": "1.2.0",
            "_view_count": null,
            "flex_flow": null,
            "width": null,
            "min_width": null,
            "border": null,
            "align_items": null,
            "bottom": null,
            "_model_module": "@jupyter-widgets/base",
            "top": null,
            "grid_column": null,
            "overflow_y": null,
            "overflow_x": null,
            "grid_auto_flow": null,
            "grid_area": null,
            "grid_template_columns": null,
            "flex": null,
            "_model_name": "LayoutModel",
            "justify_items": null,
            "grid_row": null,
            "max_height": null,
            "align_content": null,
            "visibility": null,
            "align_self": null,
            "height": null,
            "min_height": null,
            "padding": null,
            "grid_auto_rows": null,
            "grid_gap": null,
            "max_width": null,
            "order": null,
            "_view_module_version": "1.2.0",
            "grid_template_areas": null,
            "object_position": null,
            "object_fit": null,
            "grid_auto_columns": null,
            "margin": null,
            "display": null,
            "left": null
          },
          "model_module_version": "1.2.0"
        },
        "46cfd66d499045dd801236aa05a7f111": {
          "model_module": "@jupyter-widgets/controls",
          "model_name": "HBoxModel",
          "state": {
            "_view_name": "HBoxView",
            "_dom_classes": [],
            "_model_name": "HBoxModel",
            "_view_module": "@jupyter-widgets/controls",
            "_model_module_version": "1.5.0",
            "_view_count": null,
            "_view_module_version": "1.5.0",
            "box_style": "",
            "layout": "IPY_MODEL_0eaeaf2724844692af0f07951333999b",
            "_model_module": "@jupyter-widgets/controls",
            "children": [
              "IPY_MODEL_74551b2d1793451096256cdbbf071380",
              "IPY_MODEL_e75494798ffe4a3688d078de05489222"
            ]
          },
          "model_module_version": "1.5.0"
        },
        "0eaeaf2724844692af0f07951333999b": {
          "model_module": "@jupyter-widgets/base",
          "model_name": "LayoutModel",
          "state": {
            "_view_name": "LayoutView",
            "grid_template_rows": null,
            "right": null,
            "justify_content": null,
            "_view_module": "@jupyter-widgets/base",
            "overflow": null,
            "_model_module_version": "1.2.0",
            "_view_count": null,
            "flex_flow": null,
            "width": null,
            "min_width": null,
            "border": null,
            "align_items": null,
            "bottom": null,
            "_model_module": "@jupyter-widgets/base",
            "top": null,
            "grid_column": null,
            "overflow_y": null,
            "overflow_x": null,
            "grid_auto_flow": null,
            "grid_area": null,
            "grid_template_columns": null,
            "flex": null,
            "_model_name": "LayoutModel",
            "justify_items": null,
            "grid_row": null,
            "max_height": null,
            "align_content": null,
            "visibility": null,
            "align_self": null,
            "height": null,
            "min_height": null,
            "padding": null,
            "grid_auto_rows": null,
            "grid_gap": null,
            "max_width": null,
            "order": null,
            "_view_module_version": "1.2.0",
            "grid_template_areas": null,
            "object_position": null,
            "object_fit": null,
            "grid_auto_columns": null,
            "margin": null,
            "display": null,
            "left": null
          },
          "model_module_version": "1.2.0"
        },
        "74551b2d1793451096256cdbbf071380": {
          "model_module": "@jupyter-widgets/controls",
          "model_name": "FloatProgressModel",
          "state": {
            "_view_name": "ProgressView",
            "style": "IPY_MODEL_076157e289d24c5c887febef262ff68f",
            "_dom_classes": [],
            "description": "Downloading: 100%",
            "_model_name": "FloatProgressModel",
            "bar_style": "success",
            "max": 29,
            "_view_module": "@jupyter-widgets/controls",
            "_model_module_version": "1.5.0",
            "value": 29,
            "_view_count": null,
            "_view_module_version": "1.5.0",
            "orientation": "horizontal",
            "min": 0,
            "description_tooltip": null,
            "_model_module": "@jupyter-widgets/controls",
            "layout": "IPY_MODEL_22c79ef67ee44773988ed2f26a705549"
          },
          "model_module_version": "1.5.0"
        },
        "e75494798ffe4a3688d078de05489222": {
          "model_module": "@jupyter-widgets/controls",
          "model_name": "HTMLModel",
          "state": {
            "_view_name": "HTMLView",
            "style": "IPY_MODEL_a46ae0e3bc234f37873188c60522124d",
            "_dom_classes": [],
            "description": "",
            "_model_name": "HTMLModel",
            "placeholder": "​",
            "_view_module": "@jupyter-widgets/controls",
            "_model_module_version": "1.5.0",
            "value": " 29.0/29.0 [00:00&lt;00:00, 123B/s]",
            "_view_count": null,
            "_view_module_version": "1.5.0",
            "description_tooltip": null,
            "_model_module": "@jupyter-widgets/controls",
            "layout": "IPY_MODEL_d59a399cf4d3484f8697f5e700b48ebf"
          },
          "model_module_version": "1.5.0"
        },
        "076157e289d24c5c887febef262ff68f": {
          "model_module": "@jupyter-widgets/controls",
          "model_name": "ProgressStyleModel",
          "state": {
            "_view_name": "StyleView",
            "_model_name": "ProgressStyleModel",
            "description_width": "initial",
            "_view_module": "@jupyter-widgets/base",
            "_model_module_version": "1.5.0",
            "_view_count": null,
            "_view_module_version": "1.2.0",
            "bar_color": null,
            "_model_module": "@jupyter-widgets/controls"
          },
          "model_module_version": "1.5.0"
        },
        "22c79ef67ee44773988ed2f26a705549": {
          "model_module": "@jupyter-widgets/base",
          "model_name": "LayoutModel",
          "state": {
            "_view_name": "LayoutView",
            "grid_template_rows": null,
            "right": null,
            "justify_content": null,
            "_view_module": "@jupyter-widgets/base",
            "overflow": null,
            "_model_module_version": "1.2.0",
            "_view_count": null,
            "flex_flow": null,
            "width": null,
            "min_width": null,
            "border": null,
            "align_items": null,
            "bottom": null,
            "_model_module": "@jupyter-widgets/base",
            "top": null,
            "grid_column": null,
            "overflow_y": null,
            "overflow_x": null,
            "grid_auto_flow": null,
            "grid_area": null,
            "grid_template_columns": null,
            "flex": null,
            "_model_name": "LayoutModel",
            "justify_items": null,
            "grid_row": null,
            "max_height": null,
            "align_content": null,
            "visibility": null,
            "align_self": null,
            "height": null,
            "min_height": null,
            "padding": null,
            "grid_auto_rows": null,
            "grid_gap": null,
            "max_width": null,
            "order": null,
            "_view_module_version": "1.2.0",
            "grid_template_areas": null,
            "object_position": null,
            "object_fit": null,
            "grid_auto_columns": null,
            "margin": null,
            "display": null,
            "left": null
          },
          "model_module_version": "1.2.0"
        },
        "a46ae0e3bc234f37873188c60522124d": {
          "model_module": "@jupyter-widgets/controls",
          "model_name": "DescriptionStyleModel",
          "state": {
            "_view_name": "StyleView",
            "_model_name": "DescriptionStyleModel",
            "description_width": "",
            "_view_module": "@jupyter-widgets/base",
            "_model_module_version": "1.5.0",
            "_view_count": null,
            "_view_module_version": "1.2.0",
            "_model_module": "@jupyter-widgets/controls"
          },
          "model_module_version": "1.5.0"
        },
        "d59a399cf4d3484f8697f5e700b48ebf": {
          "model_module": "@jupyter-widgets/base",
          "model_name": "LayoutModel",
          "state": {
            "_view_name": "LayoutView",
            "grid_template_rows": null,
            "right": null,
            "justify_content": null,
            "_view_module": "@jupyter-widgets/base",
            "overflow": null,
            "_model_module_version": "1.2.0",
            "_view_count": null,
            "flex_flow": null,
            "width": null,
            "min_width": null,
            "border": null,
            "align_items": null,
            "bottom": null,
            "_model_module": "@jupyter-widgets/base",
            "top": null,
            "grid_column": null,
            "overflow_y": null,
            "overflow_x": null,
            "grid_auto_flow": null,
            "grid_area": null,
            "grid_template_columns": null,
            "flex": null,
            "_model_name": "LayoutModel",
            "justify_items": null,
            "grid_row": null,
            "max_height": null,
            "align_content": null,
            "visibility": null,
            "align_self": null,
            "height": null,
            "min_height": null,
            "padding": null,
            "grid_auto_rows": null,
            "grid_gap": null,
            "max_width": null,
            "order": null,
            "_view_module_version": "1.2.0",
            "grid_template_areas": null,
            "object_position": null,
            "object_fit": null,
            "grid_auto_columns": null,
            "margin": null,
            "display": null,
            "left": null
          },
          "model_module_version": "1.2.0"
        },
        "e5a4574da6d44d09ba893863764b4a2b": {
          "model_module": "@jupyter-widgets/controls",
          "model_name": "HBoxModel",
          "state": {
            "_view_name": "HBoxView",
            "_dom_classes": [],
            "_model_name": "HBoxModel",
            "_view_module": "@jupyter-widgets/controls",
            "_model_module_version": "1.5.0",
            "_view_count": null,
            "_view_module_version": "1.5.0",
            "box_style": "",
            "layout": "IPY_MODEL_f9188630ecfd4aa88efad03d5e8a86ea",
            "_model_module": "@jupyter-widgets/controls",
            "children": [
              "IPY_MODEL_d409970ecfbb4583a7dfff36944a47f9",
              "IPY_MODEL_74c0b11a380a44ca9b540ba16ad8dce3"
            ]
          },
          "model_module_version": "1.5.0"
        },
        "f9188630ecfd4aa88efad03d5e8a86ea": {
          "model_module": "@jupyter-widgets/base",
          "model_name": "LayoutModel",
          "state": {
            "_view_name": "LayoutView",
            "grid_template_rows": null,
            "right": null,
            "justify_content": null,
            "_view_module": "@jupyter-widgets/base",
            "overflow": null,
            "_model_module_version": "1.2.0",
            "_view_count": null,
            "flex_flow": null,
            "width": null,
            "min_width": null,
            "border": null,
            "align_items": null,
            "bottom": null,
            "_model_module": "@jupyter-widgets/base",
            "top": null,
            "grid_column": null,
            "overflow_y": null,
            "overflow_x": null,
            "grid_auto_flow": null,
            "grid_area": null,
            "grid_template_columns": null,
            "flex": null,
            "_model_name": "LayoutModel",
            "justify_items": null,
            "grid_row": null,
            "max_height": null,
            "align_content": null,
            "visibility": null,
            "align_self": null,
            "height": null,
            "min_height": null,
            "padding": null,
            "grid_auto_rows": null,
            "grid_gap": null,
            "max_width": null,
            "order": null,
            "_view_module_version": "1.2.0",
            "grid_template_areas": null,
            "object_position": null,
            "object_fit": null,
            "grid_auto_columns": null,
            "margin": null,
            "display": null,
            "left": null
          },
          "model_module_version": "1.2.0"
        },
        "d409970ecfbb4583a7dfff36944a47f9": {
          "model_module": "@jupyter-widgets/controls",
          "model_name": "FloatProgressModel",
          "state": {
            "_view_name": "ProgressView",
            "style": "IPY_MODEL_98013f661144491fb3a733d70834d3d5",
            "_dom_classes": [],
            "description": "Downloading: 100%",
            "_model_name": "FloatProgressModel",
            "bar_style": "success",
            "max": 435797,
            "_view_module": "@jupyter-widgets/controls",
            "_model_module_version": "1.5.0",
            "value": 435797,
            "_view_count": null,
            "_view_module_version": "1.5.0",
            "orientation": "horizontal",
            "min": 0,
            "description_tooltip": null,
            "_model_module": "@jupyter-widgets/controls",
            "layout": "IPY_MODEL_2a2b7b2794f64520bcf0104bf341b1c8"
          },
          "model_module_version": "1.5.0"
        },
        "74c0b11a380a44ca9b540ba16ad8dce3": {
          "model_module": "@jupyter-widgets/controls",
          "model_name": "HTMLModel",
          "state": {
            "_view_name": "HTMLView",
            "style": "IPY_MODEL_3f2be762b46d46ba8a47105680d7a68f",
            "_dom_classes": [],
            "description": "",
            "_model_name": "HTMLModel",
            "placeholder": "​",
            "_view_module": "@jupyter-widgets/controls",
            "_model_module_version": "1.5.0",
            "value": " 436k/436k [00:00&lt;00:00, 3.19MB/s]",
            "_view_count": null,
            "_view_module_version": "1.5.0",
            "description_tooltip": null,
            "_model_module": "@jupyter-widgets/controls",
            "layout": "IPY_MODEL_1a345923610b40bcaa8d47a190b11fe3"
          },
          "model_module_version": "1.5.0"
        },
        "98013f661144491fb3a733d70834d3d5": {
          "model_module": "@jupyter-widgets/controls",
          "model_name": "ProgressStyleModel",
          "state": {
            "_view_name": "StyleView",
            "_model_name": "ProgressStyleModel",
            "description_width": "initial",
            "_view_module": "@jupyter-widgets/base",
            "_model_module_version": "1.5.0",
            "_view_count": null,
            "_view_module_version": "1.2.0",
            "bar_color": null,
            "_model_module": "@jupyter-widgets/controls"
          },
          "model_module_version": "1.5.0"
        },
        "2a2b7b2794f64520bcf0104bf341b1c8": {
          "model_module": "@jupyter-widgets/base",
          "model_name": "LayoutModel",
          "state": {
            "_view_name": "LayoutView",
            "grid_template_rows": null,
            "right": null,
            "justify_content": null,
            "_view_module": "@jupyter-widgets/base",
            "overflow": null,
            "_model_module_version": "1.2.0",
            "_view_count": null,
            "flex_flow": null,
            "width": null,
            "min_width": null,
            "border": null,
            "align_items": null,
            "bottom": null,
            "_model_module": "@jupyter-widgets/base",
            "top": null,
            "grid_column": null,
            "overflow_y": null,
            "overflow_x": null,
            "grid_auto_flow": null,
            "grid_area": null,
            "grid_template_columns": null,
            "flex": null,
            "_model_name": "LayoutModel",
            "justify_items": null,
            "grid_row": null,
            "max_height": null,
            "align_content": null,
            "visibility": null,
            "align_self": null,
            "height": null,
            "min_height": null,
            "padding": null,
            "grid_auto_rows": null,
            "grid_gap": null,
            "max_width": null,
            "order": null,
            "_view_module_version": "1.2.0",
            "grid_template_areas": null,
            "object_position": null,
            "object_fit": null,
            "grid_auto_columns": null,
            "margin": null,
            "display": null,
            "left": null
          },
          "model_module_version": "1.2.0"
        },
        "3f2be762b46d46ba8a47105680d7a68f": {
          "model_module": "@jupyter-widgets/controls",
          "model_name": "DescriptionStyleModel",
          "state": {
            "_view_name": "StyleView",
            "_model_name": "DescriptionStyleModel",
            "description_width": "",
            "_view_module": "@jupyter-widgets/base",
            "_model_module_version": "1.5.0",
            "_view_count": null,
            "_view_module_version": "1.2.0",
            "_model_module": "@jupyter-widgets/controls"
          },
          "model_module_version": "1.5.0"
        },
        "1a345923610b40bcaa8d47a190b11fe3": {
          "model_module": "@jupyter-widgets/base",
          "model_name": "LayoutModel",
          "state": {
            "_view_name": "LayoutView",
            "grid_template_rows": null,
            "right": null,
            "justify_content": null,
            "_view_module": "@jupyter-widgets/base",
            "overflow": null,
            "_model_module_version": "1.2.0",
            "_view_count": null,
            "flex_flow": null,
            "width": null,
            "min_width": null,
            "border": null,
            "align_items": null,
            "bottom": null,
            "_model_module": "@jupyter-widgets/base",
            "top": null,
            "grid_column": null,
            "overflow_y": null,
            "overflow_x": null,
            "grid_auto_flow": null,
            "grid_area": null,
            "grid_template_columns": null,
            "flex": null,
            "_model_name": "LayoutModel",
            "justify_items": null,
            "grid_row": null,
            "max_height": null,
            "align_content": null,
            "visibility": null,
            "align_self": null,
            "height": null,
            "min_height": null,
            "padding": null,
            "grid_auto_rows": null,
            "grid_gap": null,
            "max_width": null,
            "order": null,
            "_view_module_version": "1.2.0",
            "grid_template_areas": null,
            "object_position": null,
            "object_fit": null,
            "grid_auto_columns": null,
            "margin": null,
            "display": null,
            "left": null
          },
          "model_module_version": "1.2.0"
        },
        "04d5b3c69d2e4257a2ae0284c33157a1": {
          "model_module": "@jupyter-widgets/controls",
          "model_name": "HBoxModel",
          "state": {
            "_view_name": "HBoxView",
            "_dom_classes": [],
            "_model_name": "HBoxModel",
            "_view_module": "@jupyter-widgets/controls",
            "_model_module_version": "1.5.0",
            "_view_count": null,
            "_view_module_version": "1.5.0",
            "box_style": "",
            "layout": "IPY_MODEL_6e61e207e4de49d4a2a430141eaa2bfc",
            "_model_module": "@jupyter-widgets/controls",
            "children": [
              "IPY_MODEL_6c6b4c69f98641cebb080076eacfb335",
              "IPY_MODEL_01e7ca10c2234ca1bd04362e70d02f37"
            ]
          },
          "model_module_version": "1.5.0"
        },
        "6e61e207e4de49d4a2a430141eaa2bfc": {
          "model_module": "@jupyter-widgets/base",
          "model_name": "LayoutModel",
          "state": {
            "_view_name": "LayoutView",
            "grid_template_rows": null,
            "right": null,
            "justify_content": null,
            "_view_module": "@jupyter-widgets/base",
            "overflow": null,
            "_model_module_version": "1.2.0",
            "_view_count": null,
            "flex_flow": null,
            "width": null,
            "min_width": null,
            "border": null,
            "align_items": null,
            "bottom": null,
            "_model_module": "@jupyter-widgets/base",
            "top": null,
            "grid_column": null,
            "overflow_y": null,
            "overflow_x": null,
            "grid_auto_flow": null,
            "grid_area": null,
            "grid_template_columns": null,
            "flex": null,
            "_model_name": "LayoutModel",
            "justify_items": null,
            "grid_row": null,
            "max_height": null,
            "align_content": null,
            "visibility": null,
            "align_self": null,
            "height": null,
            "min_height": null,
            "padding": null,
            "grid_auto_rows": null,
            "grid_gap": null,
            "max_width": null,
            "order": null,
            "_view_module_version": "1.2.0",
            "grid_template_areas": null,
            "object_position": null,
            "object_fit": null,
            "grid_auto_columns": null,
            "margin": null,
            "display": null,
            "left": null
          },
          "model_module_version": "1.2.0"
        },
        "6c6b4c69f98641cebb080076eacfb335": {
          "model_module": "@jupyter-widgets/controls",
          "model_name": "FloatProgressModel",
          "state": {
            "_view_name": "ProgressView",
            "style": "IPY_MODEL_68085e59c7e844459cc6dbf40c8091b5",
            "_dom_classes": [],
            "description": "Downloading: 100%",
            "_model_name": "FloatProgressModel",
            "bar_style": "success",
            "max": 570,
            "_view_module": "@jupyter-widgets/controls",
            "_model_module_version": "1.5.0",
            "value": 570,
            "_view_count": null,
            "_view_module_version": "1.5.0",
            "orientation": "horizontal",
            "min": 0,
            "description_tooltip": null,
            "_model_module": "@jupyter-widgets/controls",
            "layout": "IPY_MODEL_ccac7714657e4625b9f76bec73f579d5"
          },
          "model_module_version": "1.5.0"
        },
        "01e7ca10c2234ca1bd04362e70d02f37": {
          "model_module": "@jupyter-widgets/controls",
          "model_name": "HTMLModel",
          "state": {
            "_view_name": "HTMLView",
            "style": "IPY_MODEL_58caf4d78a3a4525a7e5a930b8cfb0ce",
            "_dom_classes": [],
            "description": "",
            "_model_name": "HTMLModel",
            "placeholder": "​",
            "_view_module": "@jupyter-widgets/controls",
            "_model_module_version": "1.5.0",
            "value": " 570/570 [00:00&lt;00:00, 5.54kB/s]",
            "_view_count": null,
            "_view_module_version": "1.5.0",
            "description_tooltip": null,
            "_model_module": "@jupyter-widgets/controls",
            "layout": "IPY_MODEL_5a9ad7ab214f4eb8bc2b56b33cebbafc"
          },
          "model_module_version": "1.5.0"
        },
        "68085e59c7e844459cc6dbf40c8091b5": {
          "model_module": "@jupyter-widgets/controls",
          "model_name": "ProgressStyleModel",
          "state": {
            "_view_name": "StyleView",
            "_model_name": "ProgressStyleModel",
            "description_width": "initial",
            "_view_module": "@jupyter-widgets/base",
            "_model_module_version": "1.5.0",
            "_view_count": null,
            "_view_module_version": "1.2.0",
            "bar_color": null,
            "_model_module": "@jupyter-widgets/controls"
          },
          "model_module_version": "1.5.0"
        },
        "ccac7714657e4625b9f76bec73f579d5": {
          "model_module": "@jupyter-widgets/base",
          "model_name": "LayoutModel",
          "state": {
            "_view_name": "LayoutView",
            "grid_template_rows": null,
            "right": null,
            "justify_content": null,
            "_view_module": "@jupyter-widgets/base",
            "overflow": null,
            "_model_module_version": "1.2.0",
            "_view_count": null,
            "flex_flow": null,
            "width": null,
            "min_width": null,
            "border": null,
            "align_items": null,
            "bottom": null,
            "_model_module": "@jupyter-widgets/base",
            "top": null,
            "grid_column": null,
            "overflow_y": null,
            "overflow_x": null,
            "grid_auto_flow": null,
            "grid_area": null,
            "grid_template_columns": null,
            "flex": null,
            "_model_name": "LayoutModel",
            "justify_items": null,
            "grid_row": null,
            "max_height": null,
            "align_content": null,
            "visibility": null,
            "align_self": null,
            "height": null,
            "min_height": null,
            "padding": null,
            "grid_auto_rows": null,
            "grid_gap": null,
            "max_width": null,
            "order": null,
            "_view_module_version": "1.2.0",
            "grid_template_areas": null,
            "object_position": null,
            "object_fit": null,
            "grid_auto_columns": null,
            "margin": null,
            "display": null,
            "left": null
          },
          "model_module_version": "1.2.0"
        },
        "58caf4d78a3a4525a7e5a930b8cfb0ce": {
          "model_module": "@jupyter-widgets/controls",
          "model_name": "DescriptionStyleModel",
          "state": {
            "_view_name": "StyleView",
            "_model_name": "DescriptionStyleModel",
            "description_width": "",
            "_view_module": "@jupyter-widgets/base",
            "_model_module_version": "1.5.0",
            "_view_count": null,
            "_view_module_version": "1.2.0",
            "_model_module": "@jupyter-widgets/controls"
          },
          "model_module_version": "1.5.0"
        },
        "5a9ad7ab214f4eb8bc2b56b33cebbafc": {
          "model_module": "@jupyter-widgets/base",
          "model_name": "LayoutModel",
          "state": {
            "_view_name": "LayoutView",
            "grid_template_rows": null,
            "right": null,
            "justify_content": null,
            "_view_module": "@jupyter-widgets/base",
            "overflow": null,
            "_model_module_version": "1.2.0",
            "_view_count": null,
            "flex_flow": null,
            "width": null,
            "min_width": null,
            "border": null,
            "align_items": null,
            "bottom": null,
            "_model_module": "@jupyter-widgets/base",
            "top": null,
            "grid_column": null,
            "overflow_y": null,
            "overflow_x": null,
            "grid_auto_flow": null,
            "grid_area": null,
            "grid_template_columns": null,
            "flex": null,
            "_model_name": "LayoutModel",
            "justify_items": null,
            "grid_row": null,
            "max_height": null,
            "align_content": null,
            "visibility": null,
            "align_self": null,
            "height": null,
            "min_height": null,
            "padding": null,
            "grid_auto_rows": null,
            "grid_gap": null,
            "max_width": null,
            "order": null,
            "_view_module_version": "1.2.0",
            "grid_template_areas": null,
            "object_position": null,
            "object_fit": null,
            "grid_auto_columns": null,
            "margin": null,
            "display": null,
            "left": null
          },
          "model_module_version": "1.2.0"
        },
        "7576748115b946a4a27bdcf983c24c78": {
          "model_module": "@jupyter-widgets/controls",
          "model_name": "HBoxModel",
          "state": {
            "_view_name": "HBoxView",
            "_dom_classes": [],
            "_model_name": "HBoxModel",
            "_view_module": "@jupyter-widgets/controls",
            "_model_module_version": "1.5.0",
            "_view_count": null,
            "_view_module_version": "1.5.0",
            "box_style": "",
            "layout": "IPY_MODEL_7a0f47522a8545b39a65454515464f3b",
            "_model_module": "@jupyter-widgets/controls",
            "children": [
              "IPY_MODEL_597719f1147d4f069d69ec3b44838a7e",
              "IPY_MODEL_d1ce8a027dd34f2ba456b24f46fa509a"
            ]
          },
          "model_module_version": "1.5.0"
        },
        "7a0f47522a8545b39a65454515464f3b": {
          "model_module": "@jupyter-widgets/base",
          "model_name": "LayoutModel",
          "state": {
            "_view_name": "LayoutView",
            "grid_template_rows": null,
            "right": null,
            "justify_content": null,
            "_view_module": "@jupyter-widgets/base",
            "overflow": null,
            "_model_module_version": "1.2.0",
            "_view_count": null,
            "flex_flow": null,
            "width": null,
            "min_width": null,
            "border": null,
            "align_items": null,
            "bottom": null,
            "_model_module": "@jupyter-widgets/base",
            "top": null,
            "grid_column": null,
            "overflow_y": null,
            "overflow_x": null,
            "grid_auto_flow": null,
            "grid_area": null,
            "grid_template_columns": null,
            "flex": null,
            "_model_name": "LayoutModel",
            "justify_items": null,
            "grid_row": null,
            "max_height": null,
            "align_content": null,
            "visibility": null,
            "align_self": null,
            "height": null,
            "min_height": null,
            "padding": null,
            "grid_auto_rows": null,
            "grid_gap": null,
            "max_width": null,
            "order": null,
            "_view_module_version": "1.2.0",
            "grid_template_areas": null,
            "object_position": null,
            "object_fit": null,
            "grid_auto_columns": null,
            "margin": null,
            "display": null,
            "left": null
          },
          "model_module_version": "1.2.0"
        },
        "597719f1147d4f069d69ec3b44838a7e": {
          "model_module": "@jupyter-widgets/controls",
          "model_name": "FloatProgressModel",
          "state": {
            "_view_name": "ProgressView",
            "style": "IPY_MODEL_d9e631a939fa466da2610ee3720e37ec",
            "_dom_classes": [],
            "description": "Downloading: 100%",
            "_model_name": "FloatProgressModel",
            "bar_style": "success",
            "max": 526681800,
            "_view_module": "@jupyter-widgets/controls",
            "_model_module_version": "1.5.0",
            "value": 526681800,
            "_view_count": null,
            "_view_module_version": "1.5.0",
            "orientation": "horizontal",
            "min": 0,
            "description_tooltip": null,
            "_model_module": "@jupyter-widgets/controls",
            "layout": "IPY_MODEL_52c5b7683beb46528293658f933eb656"
          },
          "model_module_version": "1.5.0"
        },
        "d1ce8a027dd34f2ba456b24f46fa509a": {
          "model_module": "@jupyter-widgets/controls",
          "model_name": "HTMLModel",
          "state": {
            "_view_name": "HTMLView",
            "style": "IPY_MODEL_82f85279dfb64faca508ff04759d75b8",
            "_dom_classes": [],
            "description": "",
            "_model_name": "HTMLModel",
            "placeholder": "​",
            "_view_module": "@jupyter-widgets/controls",
            "_model_module_version": "1.5.0",
            "value": " 527M/527M [00:10&lt;00:00, 49.5MB/s]",
            "_view_count": null,
            "_view_module_version": "1.5.0",
            "description_tooltip": null,
            "_model_module": "@jupyter-widgets/controls",
            "layout": "IPY_MODEL_d0dc7f2231314b89b92aa2a5c0931ddb"
          },
          "model_module_version": "1.5.0"
        },
        "d9e631a939fa466da2610ee3720e37ec": {
          "model_module": "@jupyter-widgets/controls",
          "model_name": "ProgressStyleModel",
          "state": {
            "_view_name": "StyleView",
            "_model_name": "ProgressStyleModel",
            "description_width": "initial",
            "_view_module": "@jupyter-widgets/base",
            "_model_module_version": "1.5.0",
            "_view_count": null,
            "_view_module_version": "1.2.0",
            "bar_color": null,
            "_model_module": "@jupyter-widgets/controls"
          },
          "model_module_version": "1.5.0"
        },
        "52c5b7683beb46528293658f933eb656": {
          "model_module": "@jupyter-widgets/base",
          "model_name": "LayoutModel",
          "state": {
            "_view_name": "LayoutView",
            "grid_template_rows": null,
            "right": null,
            "justify_content": null,
            "_view_module": "@jupyter-widgets/base",
            "overflow": null,
            "_model_module_version": "1.2.0",
            "_view_count": null,
            "flex_flow": null,
            "width": null,
            "min_width": null,
            "border": null,
            "align_items": null,
            "bottom": null,
            "_model_module": "@jupyter-widgets/base",
            "top": null,
            "grid_column": null,
            "overflow_y": null,
            "overflow_x": null,
            "grid_auto_flow": null,
            "grid_area": null,
            "grid_template_columns": null,
            "flex": null,
            "_model_name": "LayoutModel",
            "justify_items": null,
            "grid_row": null,
            "max_height": null,
            "align_content": null,
            "visibility": null,
            "align_self": null,
            "height": null,
            "min_height": null,
            "padding": null,
            "grid_auto_rows": null,
            "grid_gap": null,
            "max_width": null,
            "order": null,
            "_view_module_version": "1.2.0",
            "grid_template_areas": null,
            "object_position": null,
            "object_fit": null,
            "grid_auto_columns": null,
            "margin": null,
            "display": null,
            "left": null
          },
          "model_module_version": "1.2.0"
        },
        "82f85279dfb64faca508ff04759d75b8": {
          "model_module": "@jupyter-widgets/controls",
          "model_name": "DescriptionStyleModel",
          "state": {
            "_view_name": "StyleView",
            "_model_name": "DescriptionStyleModel",
            "description_width": "",
            "_view_module": "@jupyter-widgets/base",
            "_model_module_version": "1.5.0",
            "_view_count": null,
            "_view_module_version": "1.2.0",
            "_model_module": "@jupyter-widgets/controls"
          },
          "model_module_version": "1.5.0"
        },
        "d0dc7f2231314b89b92aa2a5c0931ddb": {
          "model_module": "@jupyter-widgets/base",
          "model_name": "LayoutModel",
          "state": {
            "_view_name": "LayoutView",
            "grid_template_rows": null,
            "right": null,
            "justify_content": null,
            "_view_module": "@jupyter-widgets/base",
            "overflow": null,
            "_model_module_version": "1.2.0",
            "_view_count": null,
            "flex_flow": null,
            "width": null,
            "min_width": null,
            "border": null,
            "align_items": null,
            "bottom": null,
            "_model_module": "@jupyter-widgets/base",
            "top": null,
            "grid_column": null,
            "overflow_y": null,
            "overflow_x": null,
            "grid_auto_flow": null,
            "grid_area": null,
            "grid_template_columns": null,
            "flex": null,
            "_model_name": "LayoutModel",
            "justify_items": null,
            "grid_row": null,
            "max_height": null,
            "align_content": null,
            "visibility": null,
            "align_self": null,
            "height": null,
            "min_height": null,
            "padding": null,
            "grid_auto_rows": null,
            "grid_gap": null,
            "max_width": null,
            "order": null,
            "_view_module_version": "1.2.0",
            "grid_template_areas": null,
            "object_position": null,
            "object_fit": null,
            "grid_auto_columns": null,
            "margin": null,
            "display": null,
            "left": null
          },
          "model_module_version": "1.2.0"
        }
      }
    }
  },
  "cells": [
    {
      "cell_type": "markdown",
      "metadata": {
        "id": "view-in-github",
        "colab_type": "text"
      },
      "source": [
        "<a href=\"https://colab.research.google.com/github/coho905/Machine-Learning-Projects/blob/main/UnderstandingSiri2.ipynb\" target=\"_parent\"><img src=\"https://colab.research.google.com/assets/colab-badge.svg\" alt=\"Open In Colab\"/></a>"
      ]
    },
    {
      "cell_type": "markdown",
      "metadata": {
        "id": "m0ygrZd3dmu5"
      },
      "source": [
        "# Classifying Voice Commands\n",
        "\n",
        "For voice commands, Siri needs to be able to figure out *what* the speaker wants, and then *how* to accomplish that request. \n",
        "\n",
        "<img src=\"https://www.cheatsheet.com/wp-content/uploads/2016/01/Siri-in-iOS-9-640x305.png\" width=400>\n",
        "\n",
        "The focus of this notebook is predicting the 'what', in other words, the **intent** of a voice command.\n",
        "\n",
        "Remember that this is part (a) of our two-part goal.\n",
        "\n",
        "---"
      ]
    },
    {
      "cell_type": "markdown",
      "metadata": {
        "id": "dlE9nndIa-4-"
      },
      "source": [
        "In this notebook we'll be:\n",
        "*   Preprocessing the Dataset for the ML models\n",
        "*   Implementing a Pretrained BERT model"
      ]
    },
    {
      "cell_type": "markdown",
      "metadata": {
        "id": "irPDgkzsdguU"
      },
      "source": [
        "## Sentence Level Classification\n",
        "\n",
        "\n",
        "\n",
        "\n",
        "Here is where our friend BERT comes in to help us. As a reminder, **BERT** stands for **B**idirectional **E**ncoder **R**epresentations from **T**ransformers, and is a novel model architecture that uses both the left and right *context* words in a sequence to generate good embeddings for words. \n",
        "\n",
        "We can make use of existing Pytorch APIs for BERT that will allow us to convert our voice command sequence data into the format that the BERT model expects, and then use *pretrained* BERT for our classification task.\n",
        "\n",
        "<img src=\"https://pytorch.org/tutorials/_images/bert.png\" height=\"300\">\n",
        "\n",
        "Note that there are many available pretrained BERT models with varying attributes such as: the language of the corpus for training, how many layers and attention heads are used, if the corpus for pretraining contains uncased or cased words, and so on. We will use the cased BERT base, which is the architecture described in the slides (12 layers - 6 layers within the encoder and 6 layers within the decoder - and 12 attention heads), and is trained on cased English text.\n",
        "\n",
        "\n",
        "\n"
      ]
    },
    {
      "cell_type": "markdown",
      "metadata": {
        "id": "Nmzc3C9XkIKL"
      },
      "source": [
        "**IMPORTANT**: Since the BERT model we will be using in this notebook is so large, we need to do one step before continuing. Please go to the 'Runtime' tab, and click on 'Change Runtime Type'; then select **GPU** under the dropdown for Hardware accelerator."
      ]
    },
    {
      "cell_type": "code",
      "metadata": {
        "id": "PjzYKqcweS2F",
        "colab": {
          "base_uri": "https://localhost:8080/"
        },
        "outputId": "8a177180-12ef-4364-af95-637cb03a32d6"
      },
      "source": [
        "#@title Run this code to get started\n",
        "%tensorflow_version 2.x\n",
        "%pip install -q transformers\n",
        "\n",
        "from urllib.request import urlretrieve\n",
        "from pathlib import Path\n",
        "import matplotlib.pyplot as plt\n",
        "import numpy as np\n",
        "import pandas as pd\n",
        "\n",
        "# SNIPS_DATA_BASE_URL = (\n",
        "#     \"https://github.com/ogrisel/slot_filling_and_intent_detection_of_SLU/blob/\"\n",
        "#     \"master/data/snips/\"\n",
        "# )\n",
        "# for filename in [\"train\", \"valid\", \"test\", \"vocab.intent\", \"vocab.slot\"]:\n",
        "#     path = Path(filename)\n",
        "#     if not path.exists():\n",
        "#       print(f\"Downloading {filename}...\")\n",
        "#       urlretrieve(SNIPS_DATA_BASE_URL + filename + \"?raw=true\", path)\n",
        "\n",
        "!wget 'https://storage.googleapis.com/inspirit-ai-data-bucket-1/Data/AI%20Scholars/Sessions%206%20-%2010%20(Projects)/Project%20-%20Siri%20(Bert)%20Voice%20Commands/train'\n",
        "!wget 'https://storage.googleapis.com/inspirit-ai-data-bucket-1/Data/AI%20Scholars/Sessions%206%20-%2010%20(Projects)/Project%20-%20Siri%20(Bert)%20Voice%20Commands/valid'\n",
        "!wget 'https://storage.googleapis.com/inspirit-ai-data-bucket-1/Data/AI%20Scholars/Sessions%206%20-%2010%20(Projects)/Project%20-%20Siri%20(Bert)%20Voice%20Commands/test'\n",
        "!wget 'https://storage.googleapis.com/inspirit-ai-data-bucket-1/Data/AI%20Scholars/Sessions%206%20-%2010%20(Projects)/Project%20-%20Siri%20(Bert)%20Voice%20Commands/vocab.intent'\n",
        "!wget 'https://storage.googleapis.com/inspirit-ai-data-bucket-1/Data/AI%20Scholars/Sessions%206%20-%2010%20(Projects)/Project%20-%20Siri%20(Bert)%20Voice%20Commands/vocab.slot'\n",
        "\n",
        "\n",
        "\n",
        "def parse_line(line):\n",
        "    data, intent_label = line.split(\" <=> \")\n",
        "    items = data.split()\n",
        "    words = [item.rsplit(\":\", 1)[0]for item in items]\n",
        "    word_labels = [item.rsplit(\":\", 1)[1]for item in items]\n",
        "    return {\n",
        "        \"intent_label\": intent_label, ### YOUR CODE HERE ###, \n",
        "        \"words\": \" \".join(words),\n",
        "        \"word_labels\": \" \".join(word_labels), ### YOUR CODE HERE ###,\n",
        "        \"length\": len(words), ### YOUR CODE HERE ###,\n",
        "    }\n",
        "\n",
        "\n",
        "train_lines = Path(\"train\").read_text().strip().splitlines()\n",
        "valid_lines = Path(\"valid\").read_text().strip().splitlines()\n",
        "test_lines = Path(\"test\").read_text().strip().splitlines()\n",
        "\n",
        "df_train = pd.DataFrame([parse_line(line) for line in train_lines])\n",
        "df_valid = pd.DataFrame([parse_line(line) for line in valid_lines])\n",
        "df_test = pd.DataFrame([parse_line(line) for line in test_lines])"
      ],
      "execution_count": null,
      "outputs": [
        {
          "output_type": "stream",
          "text": [
            "\u001b[K     |████████████████████████████████| 2.5MB 26.5MB/s \n",
            "\u001b[K     |████████████████████████████████| 901kB 47.8MB/s \n",
            "\u001b[K     |████████████████████████████████| 3.3MB 47.6MB/s \n",
            "\u001b[?25h--2021-07-03 16:22:52--  https://storage.googleapis.com/inspirit-ai-data-bucket-1/Data/AI%20Scholars/Sessions%206%20-%2010%20(Projects)/Project%20-%20Siri%20(Bert)%20Voice%20Commands/train\n",
            "Resolving storage.googleapis.com (storage.googleapis.com)... 172.217.13.80, 172.217.13.240, 172.217.15.80, ...\n",
            "Connecting to storage.googleapis.com (storage.googleapis.com)|172.217.13.80|:443... connected.\n",
            "HTTP request sent, awaiting response... 200 OK\n",
            "Length: 1793794 (1.7M) [application/octet-stream]\n",
            "Saving to: ‘train’\n",
            "\n",
            "train               100%[===================>]   1.71M  --.-KB/s    in 0.009s  \n",
            "\n",
            "2021-07-03 16:22:52 (196 MB/s) - ‘train’ saved [1793794/1793794]\n",
            "\n",
            "--2021-07-03 16:22:52--  https://storage.googleapis.com/inspirit-ai-data-bucket-1/Data/AI%20Scholars/Sessions%206%20-%2010%20(Projects)/Project%20-%20Siri%20(Bert)%20Voice%20Commands/valid\n",
            "Resolving storage.googleapis.com (storage.googleapis.com)... 172.217.13.240, 172.217.15.80, 172.217.9.208, ...\n",
            "Connecting to storage.googleapis.com (storage.googleapis.com)|172.217.13.240|:443... connected.\n",
            "HTTP request sent, awaiting response... 200 OK\n",
            "Length: 98609 (96K) [application/octet-stream]\n",
            "Saving to: ‘valid’\n",
            "\n",
            "valid               100%[===================>]  96.30K  --.-KB/s    in 0.001s  \n",
            "\n",
            "2021-07-03 16:22:52 (131 MB/s) - ‘valid’ saved [98609/98609]\n",
            "\n",
            "--2021-07-03 16:22:53--  https://storage.googleapis.com/inspirit-ai-data-bucket-1/Data/AI%20Scholars/Sessions%206%20-%2010%20(Projects)/Project%20-%20Siri%20(Bert)%20Voice%20Commands/test\n",
            "Resolving storage.googleapis.com (storage.googleapis.com)... 172.217.164.144, 172.253.115.128, 172.253.122.128, ...\n",
            "Connecting to storage.googleapis.com (storage.googleapis.com)|172.217.164.144|:443... connected.\n",
            "HTTP request sent, awaiting response... 200 OK\n",
            "Length: 96761 (94K) [application/octet-stream]\n",
            "Saving to: ‘test’\n",
            "\n",
            "test                100%[===================>]  94.49K  --.-KB/s    in 0.001s  \n",
            "\n",
            "2021-07-03 16:22:53 (135 MB/s) - ‘test’ saved [96761/96761]\n",
            "\n",
            "--2021-07-03 16:22:53--  https://storage.googleapis.com/inspirit-ai-data-bucket-1/Data/AI%20Scholars/Sessions%206%20-%2010%20(Projects)/Project%20-%20Siri%20(Bert)%20Voice%20Commands/vocab.intent\n",
            "Resolving storage.googleapis.com (storage.googleapis.com)... 172.217.13.240, 172.217.15.80, 172.217.9.208, ...\n",
            "Connecting to storage.googleapis.com (storage.googleapis.com)|172.217.13.240|:443... connected.\n",
            "HTTP request sent, awaiting response... 200 OK\n",
            "Length: 99 [application/octet-stream]\n",
            "Saving to: ‘vocab.intent’\n",
            "\n",
            "vocab.intent        100%[===================>]      99  --.-KB/s    in 0s      \n",
            "\n",
            "2021-07-03 16:22:53 (24.5 MB/s) - ‘vocab.intent’ saved [99/99]\n",
            "\n",
            "--2021-07-03 16:22:53--  https://storage.googleapis.com/inspirit-ai-data-bucket-1/Data/AI%20Scholars/Sessions%206%20-%2010%20(Projects)/Project%20-%20Siri%20(Bert)%20Voice%20Commands/vocab.slot\n",
            "Resolving storage.googleapis.com (storage.googleapis.com)... 172.217.164.144, 172.253.115.128, 172.253.122.128, ...\n",
            "Connecting to storage.googleapis.com (storage.googleapis.com)|172.217.164.144|:443... connected.\n",
            "HTTP request sent, awaiting response... 200 OK\n",
            "Length: 994 [application/octet-stream]\n",
            "Saving to: ‘vocab.slot’\n",
            "\n",
            "vocab.slot          100%[===================>]     994  --.-KB/s    in 0s      \n",
            "\n",
            "2021-07-03 16:22:53 (24.7 MB/s) - ‘vocab.slot’ saved [994/994]\n",
            "\n"
          ],
          "name": "stdout"
        }
      ]
    },
    {
      "cell_type": "markdown",
      "metadata": {
        "id": "PAc67kxQftEV"
      },
      "source": [
        "Remember that `df_train`, `df_valid`, and `df_test` are the Pandas Dataframes that store our training, validation, and test datapoints."
      ]
    },
    {
      "cell_type": "markdown",
      "metadata": {
        "id": "D0ZWheGxd5XT"
      },
      "source": [
        "### Step 1: Tokenize our Data\n",
        "\n",
        "BERT expects input sequences to be broken down into individual *tokens*; a `[CLS]` token marks the beginning and a `[SEP]` marks the end of a given sequence (as seen in the red input sentences in the image above).\n",
        "\n",
        "The `[CLS]` token is used by BERT for the pre-training task for sequence classification.\n",
        "\n",
        "The `[SEP]` token is a separator for the pre-training task that classifies if a pair of sentences are consecutive in a corpus or not, i.e. next sentence prediction (NSP)."
      ]
    },
    {
      "cell_type": "code",
      "metadata": {
        "id": "2VLvVuJUchlR",
        "colab": {
          "base_uri": "https://localhost:8080/",
          "height": 163,
          "referenced_widgets": [
            "2d1b9c0b5e734739929513309108e2ef",
            "4bc2b1215b6f41e09771742d6ceeb501",
            "58f31ea588284b9eb9458b21baff59fd",
            "09c80e45a5e242c68cdb54f888fe5323",
            "ab171590306740aeadb699e31069ca93",
            "18412d7231314d2b9a854ba81b94b03e",
            "0ab2cfbeba6f4ec19dd73e609d05f306",
            "b1295d1af06e4b9291ec29c73563059b",
            "46cfd66d499045dd801236aa05a7f111",
            "0eaeaf2724844692af0f07951333999b",
            "74551b2d1793451096256cdbbf071380",
            "e75494798ffe4a3688d078de05489222",
            "076157e289d24c5c887febef262ff68f",
            "22c79ef67ee44773988ed2f26a705549",
            "a46ae0e3bc234f37873188c60522124d",
            "d59a399cf4d3484f8697f5e700b48ebf",
            "e5a4574da6d44d09ba893863764b4a2b",
            "f9188630ecfd4aa88efad03d5e8a86ea",
            "d409970ecfbb4583a7dfff36944a47f9",
            "74c0b11a380a44ca9b540ba16ad8dce3",
            "98013f661144491fb3a733d70834d3d5",
            "2a2b7b2794f64520bcf0104bf341b1c8",
            "3f2be762b46d46ba8a47105680d7a68f",
            "1a345923610b40bcaa8d47a190b11fe3"
          ]
        },
        "outputId": "bdf464be-7578-4f40-f539-8aec6b434745"
      },
      "source": [
        "# Import the BERT tokenizer and utilize the BERT base pretrained model\n",
        "from transformers import BertTokenizer\n",
        "\n",
        "model_name = \"bert-base-cased\"\n",
        "tokenizer = BertTokenizer.from_pretrained(model_name)"
      ],
      "execution_count": null,
      "outputs": [
        {
          "output_type": "display_data",
          "data": {
            "application/vnd.jupyter.widget-view+json": {
              "model_id": "2d1b9c0b5e734739929513309108e2ef",
              "version_minor": 0,
              "version_major": 2
            },
            "text/plain": [
              "HBox(children=(FloatProgress(value=0.0, description='Downloading', max=213450.0, style=ProgressStyle(descripti…"
            ]
          },
          "metadata": {
            "tags": []
          }
        },
        {
          "output_type": "stream",
          "text": [
            "\n"
          ],
          "name": "stdout"
        },
        {
          "output_type": "display_data",
          "data": {
            "application/vnd.jupyter.widget-view+json": {
              "model_id": "46cfd66d499045dd801236aa05a7f111",
              "version_minor": 0,
              "version_major": 2
            },
            "text/plain": [
              "HBox(children=(FloatProgress(value=0.0, description='Downloading', max=29.0, style=ProgressStyle(description_w…"
            ]
          },
          "metadata": {
            "tags": []
          }
        },
        {
          "output_type": "stream",
          "text": [
            "\n"
          ],
          "name": "stdout"
        },
        {
          "output_type": "display_data",
          "data": {
            "application/vnd.jupyter.widget-view+json": {
              "model_id": "e5a4574da6d44d09ba893863764b4a2b",
              "version_minor": 0,
              "version_major": 2
            },
            "text/plain": [
              "HBox(children=(FloatProgress(value=0.0, description='Downloading', max=435797.0, style=ProgressStyle(descripti…"
            ]
          },
          "metadata": {
            "tags": []
          }
        },
        {
          "output_type": "stream",
          "text": [
            "\n"
          ],
          "name": "stdout"
        }
      ]
    },
    {
      "cell_type": "markdown",
      "metadata": {
        "id": "CPdGS07td863"
      },
      "source": [
        "How many unique tokens in this BERT model are there?"
      ]
    },
    {
      "cell_type": "code",
      "metadata": {
        "id": "NDKUw6svd9Im",
        "colab": {
          "base_uri": "https://localhost:8080/"
        },
        "outputId": "d9939b71-c08a-4f99-c7e8-7d07b73a4dde"
      },
      "source": [
        "tokenizer.vocab_size"
      ],
      "execution_count": null,
      "outputs": [
        {
          "output_type": "execute_result",
          "data": {
            "text/plain": [
              "28996"
            ]
          },
          "metadata": {
            "tags": []
          },
          "execution_count": 3
        }
      ]
    },
    {
      "cell_type": "markdown",
      "metadata": {
        "id": "C7gd0Pw8eA7B"
      },
      "source": [
        "Wow - there's roughly 30k tokens that BERT knows! <img src=\"https://i7.pngguru.com/preview/625/201/218/emoji-iphone-computer-icons-clip-art-emoji-thumbnail.jpg\" width=20>\n",
        "\n",
        "Let's see exactly how the BERT tokenizer works on one training example."
      ]
    },
    {
      "cell_type": "code",
      "metadata": {
        "id": "wf4zLAdaeBR1",
        "colab": {
          "base_uri": "https://localhost:8080/"
        },
        "outputId": "89cb4870-020f-4938-d2fb-db94459904d4"
      },
      "source": [
        "# Print the first training data sequence\n",
        "first_sentence = df_train.iloc[0][\"words\"]\n",
        "print(first_sentence)\n",
        "print(\"This sentence contains {} words.\".format(len(first_sentence.split(\" \"))))"
      ],
      "execution_count": null,
      "outputs": [
        {
          "output_type": "stream",
          "text": [
            "Add Don and Sherri to my Meditate to Sounds of Nature playlist\n",
            "This sentence contains 12 words.\n"
          ],
          "name": "stdout"
        }
      ]
    },
    {
      "cell_type": "code",
      "metadata": {
        "id": "kusXEf2JeFDg",
        "colab": {
          "base_uri": "https://localhost:8080/"
        },
        "outputId": "c83efdd4-5025-4ce8-9736-c68160ca5c32"
      },
      "source": [
        "tokens = tokenizer.tokenize(first_sentence)\n",
        "for t in tokens:\n",
        "  print(t)\n",
        "print(\"\\nThis sentence turns into {} tokens.\".format(len(tokens)))"
      ],
      "execution_count": null,
      "outputs": [
        {
          "output_type": "stream",
          "text": [
            "Ad\n",
            "##d\n",
            "Don\n",
            "and\n",
            "She\n",
            "##rri\n",
            "to\n",
            "my\n",
            "Me\n",
            "##dit\n",
            "##ate\n",
            "to\n",
            "Sounds\n",
            "of\n",
            "Nature\n",
            "play\n",
            "##list\n",
            "\n",
            "This sentence turns into 17 tokens.\n"
          ],
          "name": "stdout"
        }
      ]
    },
    {
      "cell_type": "markdown",
      "metadata": {
        "id": "rUUM0qHugJcw"
      },
      "source": [
        "Hmmm, why are there 17 *tokens* now but only 12 *words* within the original sequence.\n",
        "\n",
        "It's because BERT uses something called subword tokenization!\n",
        "\n",
        "**Subword tokenization** may break some words into smaller units and doesn't always use a 1:1 mapping of words to tokens. Because of subword tokenization within BERT, the length of tokenized sentences is likely to be larger than the original number of words in the sentence.\n",
        "\n",
        "**Discuss:**\n",
        "\n",
        "Why is it interesting and useful to use subword tokenization for generic language models such as BERT?"
      ]
    },
    {
      "cell_type": "markdown",
      "metadata": {
        "id": "gJGWM5J-gOZV"
      },
      "source": [
        "### Step 2: Encoding Tokens\n",
        "\n",
        "Each token is mapped to a unique integer id that makes it fast to lookup the correct column in the input layer token embedding (seen in yellow below).\n",
        "\n",
        "<img src=\"https://miro.medium.com/max/1496/1*fywysLzEbXxEqkPeIUWaJw.png\" width=\"500\">"
      ]
    },
    {
      "cell_type": "code",
      "metadata": {
        "id": "_3yBoMYqgG0R",
        "colab": {
          "base_uri": "https://localhost:8080/"
        },
        "outputId": "a1030955-09e0-4256-e26a-f77c2b37cff7"
      },
      "source": [
        "# See the first 10 (token,id) pairs within BERT.\n",
        "bert_vocab_items = list(tokenizer.vocab.items())\n",
        "bert_vocab_items[:10]"
      ],
      "execution_count": null,
      "outputs": [
        {
          "output_type": "execute_result",
          "data": {
            "text/plain": [
              "[('[PAD]', 0),\n",
              " ('[unused1]', 1),\n",
              " ('[unused2]', 2),\n",
              " ('[unused3]', 3),\n",
              " ('[unused4]', 4),\n",
              " ('[unused5]', 5),\n",
              " ('[unused6]', 6),\n",
              " ('[unused7]', 7),\n",
              " ('[unused8]', 8),\n",
              " ('[unused9]', 9)]"
            ]
          },
          "metadata": {
            "tags": []
          },
          "execution_count": 6
        }
      ]
    },
    {
      "cell_type": "code",
      "metadata": {
        "id": "TOnuTWJvgQ7P",
        "colab": {
          "base_uri": "https://localhost:8080/"
        },
        "outputId": "1b60ae8d-65ff-4b02-e4b1-81955dab07c3"
      },
      "source": [
        "# See more (token,id) examples within BERT's vocab.\n",
        "bert_vocab_items[1100:1110]"
      ],
      "execution_count": null,
      "outputs": [
        {
          "output_type": "execute_result",
          "data": {
            "text/plain": [
              "[('－', 1100),\n",
              " ('／', 1101),\n",
              " ('：', 1102),\n",
              " ('the', 1103),\n",
              " ('of', 1104),\n",
              " ('and', 1105),\n",
              " ('to', 1106),\n",
              " ('in', 1107),\n",
              " ('was', 1108),\n",
              " ('The', 1109)]"
            ]
          },
          "metadata": {
            "tags": []
          },
          "execution_count": 7
        }
      ]
    },
    {
      "cell_type": "code",
      "metadata": {
        "id": "ZjTk9qkyvViH",
        "colab": {
          "base_uri": "https://localhost:8080/"
        },
        "outputId": "eada2bd4-39f1-4dbf-e63e-d1d4b25a6184"
      },
      "source": [
        "# Why are these tokens interesting?\n",
        "bert_vocab_items[100:104]"
      ],
      "execution_count": null,
      "outputs": [
        {
          "output_type": "execute_result",
          "data": {
            "text/plain": [
              "[('[UNK]', 100), ('[CLS]', 101), ('[SEP]', 102), ('[MASK]', 103)]"
            ]
          },
          "metadata": {
            "tags": []
          },
          "execution_count": 8
        }
      ]
    },
    {
      "cell_type": "markdown",
      "metadata": {
        "id": "1RJypthuvYns"
      },
      "source": [
        "(The `[UNK]` token is used to replace tokens that BERT doesn't recognize. If there is no way to split a word into subtokens, the whole word becomes `[UNK]`.)\n",
        "\n",
        "`[CLS]` marks the beginning of a sentence, and `[SEP]` marks the end. \n",
        "\n",
        "`[MASK]` is used by BERT in the pre-training task called MLM (Masked Language Model) where it learns to predict the original word if it's masked out in a sentence."
      ]
    },
    {
      "cell_type": "markdown",
      "metadata": {
        "id": "qbCq5LpQgVkF"
      },
      "source": [
        "Let's analyze the first training sequence again."
      ]
    },
    {
      "cell_type": "code",
      "metadata": {
        "id": "_pQUHmuDgSyn",
        "colab": {
          "base_uri": "https://localhost:8080/"
        },
        "outputId": "d40d1b6f-79ef-4e0b-e7ad-6dc14c2103ef"
      },
      "source": [
        "# See the integer indexes for the token embeddings of the first sentence.\n",
        "idxs = tokenizer.encode(first_sentence)\n",
        "print(idxs)"
      ],
      "execution_count": null,
      "outputs": [
        {
          "output_type": "stream",
          "text": [
            "[101, 24930, 1181, 1790, 1105, 1153, 14791, 1106, 1139, 2508, 17903, 2193, 1106, 10560, 1104, 7009, 1505, 7276, 102]\n"
          ],
          "name": "stdout"
        }
      ]
    },
    {
      "cell_type": "code",
      "metadata": {
        "id": "Ht-HqEmMgXZy",
        "colab": {
          "base_uri": "https://localhost:8080/",
          "height": 35
        },
        "outputId": "7a57976d-9c22-4c29-d6e0-b9213704f1e9"
      },
      "source": [
        "# Decode the encoding, which should produce the original sequence.\n",
        "tokenizer.decode(idxs)"
      ],
      "execution_count": null,
      "outputs": [
        {
          "output_type": "execute_result",
          "data": {
            "application/vnd.google.colaboratory.intrinsic+json": {
              "type": "string"
            },
            "text/plain": [
              "'[CLS] Add Don and Sherri to my Meditate to Sounds of Nature playlist [SEP]'"
            ]
          },
          "metadata": {
            "tags": []
          },
          "execution_count": 10
        }
      ]
    },
    {
      "cell_type": "markdown",
      "metadata": {
        "id": "FzWrP7kYgdVo"
      },
      "source": [
        "### Step 3: Padding Tokenized Sequences"
      ]
    },
    {
      "cell_type": "markdown",
      "metadata": {
        "id": "0XlouEr3ggRN"
      },
      "source": [
        "#### Exercise 1\n",
        "\n",
        "In the Training Data Analysis section of the 1st notebook, we created a histogram according to the lengths of training sequences. Let's take a look at the histogram of the **tokenized** sequences now."
      ]
    },
    {
      "cell_type": "code",
      "metadata": {
        "id": "uUSq9VhTggmm",
        "colab": {
          "base_uri": "https://localhost:8080/",
          "height": 295
        },
        "outputId": "2b25b60e-f0b4-4427-b5f2-26bc164d6ec5"
      },
      "source": [
        "# Print histogram of training tokenized sequence lengths.\n",
        "# Hint: use tokenizer.encode on every sequence within df_train\n",
        "# & get the lengths; then use plt.hist()\n",
        "\n",
        "train_sequence_lengths = [len(tokenizer.encode(i)) for i in df_train['words']]\n",
        "plt.hist(train_sequence_lengths, bins=30)\n",
        "plt.xlabel(\"Number of tokens per sequence\")\n",
        "plt.ylabel(\"Count of sequences\")\n",
        "plt.title(\"Token Sequence Length Histogram\")\n",
        "plt.show()"
      ],
      "execution_count": null,
      "outputs": [
        {
          "output_type": "display_data",
          "data": {
            "image/png": "[encoded data removed]",
            "text/plain": [
              "<Figure size 432x288 with 1 Axes>"
            ]
          },
          "metadata": {
            "tags": [],
            "needs_background": "light"
          }
        }
      ]
    },
    {
      "cell_type": "markdown",
      "metadata": {
        "id": "KN_8RLj2hRiD"
      },
      "source": [
        "What is the maximum length of any given tokenized training sequence?\n",
        "\n",
        "*Remember that the maximum of the original voice command lengths was 35 words per sequence.*"
      ]
    },
    {
      "cell_type": "code",
      "metadata": {
        "id": "6Os61ui7hPxH",
        "colab": {
          "base_uri": "https://localhost:8080/"
        },
        "outputId": "a8e2e515-9f5e-4ad1-d68d-5bdeb7912de1"
      },
      "source": [
        "max_token_len = max(train_sequence_lengths)\n",
        "print(\"Maximum tokenized sequence length: {} tokens per sequence\".format(max_token_len))"
      ],
      "execution_count": null,
      "outputs": [
        {
          "output_type": "stream",
          "text": [
            "Maximum tokenized sequence length: 43 tokens per sequence\n"
          ],
          "name": "stdout"
        }
      ]
    },
    {
      "cell_type": "markdown",
      "metadata": {
        "id": "SyCTT3WPhpec"
      },
      "source": [
        "**Transfer learning**, i.e. using *pretrained* BERT applied to our new dataset and sentiment classification task, requires that the sequences are **padded**, which means they all have the same length.\n",
        "\n",
        "The above histogram shows that after tokenization, 43 tokens is long enough to represent all the voice commands in the training set."
      ]
    },
    {
      "cell_type": "markdown",
      "metadata": {
        "id": "6LoeTBKEhrev"
      },
      "source": [
        "### Preprocessing Full Dataset\n",
        "\n",
        "<img src=\"https://miro.medium.com/max/2152/1*vNGH3DTu83pZr3gVHsz7yg.png\" width=500>\n"
      ]
    },
    {
      "cell_type": "markdown",
      "metadata": {
        "id": "ZJGK5kL9xHtH"
      },
      "source": [
        "Let's now encode the full train, validation, and test sets with the BERT tokenizer to get padded integer numpy arrays."
      ]
    },
    {
      "cell_type": "code",
      "metadata": {
        "id": "nFDJmLtghpuX"
      },
      "source": [
        "def encode_dataset(text_sequences):\n",
        "    # Create token_ids array (initialized to all zeros), where \n",
        "    # rows are a sequence and columns are encoding ids\n",
        "    # of each token in given sequence.\n",
        "    token_ids = np.zeros(shape=(len(text_sequences), max_token_len),\n",
        "                         dtype=np.int32)\n",
        "    \n",
        "    for i, text_sequence in enumerate(text_sequences):\n",
        "        encoded = tokenizer.encode(text_sequence)\n",
        "        token_ids[i, 0:len(encoded)] = encoded\n",
        "\n",
        "    attention_masks = (token_ids != 0).astype(np.int32)\n",
        "    return {\"input_ids\": token_ids, \"attention_masks\": attention_masks}"
      ],
      "execution_count": null,
      "outputs": []
    },
    {
      "cell_type": "code",
      "metadata": {
        "id": "fJ2GF91YhvIB"
      },
      "source": [
        "encoded_train = encode_dataset(df_train[\"words\"])"
      ],
      "execution_count": null,
      "outputs": []
    },
    {
      "cell_type": "markdown",
      "metadata": {
        "id": "zlfF7RWKh5rV"
      },
      "source": [
        "Let's see what the output of the function `encode_dataset` is on the training data:"
      ]
    },
    {
      "cell_type": "code",
      "metadata": {
        "id": "qA4uyGmrhwqq",
        "colab": {
          "base_uri": "https://localhost:8080/"
        },
        "outputId": "1a7113e8-e5d2-4685-91c8-841a54f08d9a"
      },
      "source": [
        "encoded_train[\"input_ids\"]"
      ],
      "execution_count": null,
      "outputs": [
        {
          "output_type": "execute_result",
          "data": {
            "text/plain": [
              "array([[  101, 24930,  1181, ...,     0,     0,     0],\n",
              "       [  101,  1508,  1244, ...,     0,     0,     0],\n",
              "       [  101,  5194,  1103, ...,     0,     0,     0],\n",
              "       ...,\n",
              "       [  101, 27640,  1116, ...,     0,     0,     0],\n",
              "       [  101,  5979,  6608, ...,     0,     0,     0],\n",
              "       [  101,  1327,  2523, ...,     0,     0,     0]], dtype=int32)"
            ]
          },
          "metadata": {
            "tags": []
          },
          "execution_count": 17
        }
      ]
    },
    {
      "cell_type": "code",
      "metadata": {
        "id": "ExBeEvwQh7h-",
        "colab": {
          "base_uri": "https://localhost:8080/"
        },
        "outputId": "f0743662-e0e8-4aa2-9b7d-d74edc683e0d"
      },
      "source": [
        "encoded_train[\"attention_masks\"]"
      ],
      "execution_count": null,
      "outputs": [
        {
          "output_type": "execute_result",
          "data": {
            "text/plain": [
              "array([[1, 1, 1, ..., 0, 0, 0],\n",
              "       [1, 1, 1, ..., 0, 0, 0],\n",
              "       [1, 1, 1, ..., 0, 0, 0],\n",
              "       ...,\n",
              "       [1, 1, 1, ..., 0, 0, 0],\n",
              "       [1, 1, 1, ..., 0, 0, 0],\n",
              "       [1, 1, 1, ..., 0, 0, 0]], dtype=int32)"
            ]
          },
          "metadata": {
            "tags": []
          },
          "execution_count": 18
        }
      ]
    },
    {
      "cell_type": "markdown",
      "metadata": {
        "id": "pD13PjPih-2A"
      },
      "source": [
        "**Discuss**:\n",
        "\n",
        "What is the purpose of the attention_masks array?\n",
        "(Hint: Think about what each row and column corresponds to).\n"
      ]
    },
    {
      "cell_type": "markdown",
      "metadata": {
        "id": "KSEQpuOSiAtp"
      },
      "source": [
        "#### Exercise 2\n",
        "\n",
        "Let's also create the encoding id and attention mask arrays for the validation and test sets:"
      ]
    },
    {
      "cell_type": "code",
      "metadata": {
        "id": "KsHrCy2miCag"
      },
      "source": [
        "# Create the necessary np arrays using the encode_dataset function\n",
        "# and store your results in encoded_valid, and encoded_test.\n",
        "encoded_valid = encode_dataset(df_valid[\"words\"])\n",
        "encoded_test = encode_dataset(df_test[\"words\"])\n",
        "### YOUR CODE HERE ###"
      ],
      "execution_count": null,
      "outputs": []
    },
    {
      "cell_type": "markdown",
      "metadata": {
        "id": "kPj_8jJPiKIf"
      },
      "source": [
        "#### Encoding the Sequence Classification Targets\n",
        "\n",
        "Aside from encodings of the tokenized word sequences, we also need to get the encodings of the target intent classification labels."
      ]
    },
    {
      "cell_type": "code",
      "metadata": {
        "id": "t-eOu3PbiKWx",
        "colab": {
          "base_uri": "https://localhost:8080/"
        },
        "outputId": "a89ffa4b-cf8f-4734-d760-b893fcb23d07"
      },
      "source": [
        "# Build a map from target intent label to a unique id.\n",
        "intent_names = Path(\"vocab.intent\").read_text().split()\n",
        "intent_map = dict((label, idx) for idx, label in enumerate(intent_names))\n",
        "intent_map"
      ],
      "execution_count": null,
      "outputs": [
        {
          "output_type": "execute_result",
          "data": {
            "text/plain": [
              "{'AddToPlaylist': 0,\n",
              " 'BookRestaurant': 1,\n",
              " 'GetWeather': 2,\n",
              " 'PlayMusic': 3,\n",
              " 'RateBook': 4,\n",
              " 'SearchCreativeWork': 5,\n",
              " 'SearchScreeningEvent': 6}"
            ]
          },
          "metadata": {
            "tags": []
          },
          "execution_count": 20
        }
      ]
    },
    {
      "cell_type": "code",
      "metadata": {
        "id": "v5bTeYoRiNVQ",
        "colab": {
          "base_uri": "https://localhost:8080/"
        },
        "outputId": "447dcbc5-bdb2-41ac-f1ff-8abe14b4cf07"
      },
      "source": [
        "# Convert list of target labels into their corresponding unique id.\n",
        "intent_train = df_train[\"intent_label\"].map(intent_map).values\n",
        "intent_train"
      ],
      "execution_count": null,
      "outputs": [
        {
          "output_type": "execute_result",
          "data": {
            "text/plain": [
              "array([0, 0, 0, ..., 6, 6, 6])"
            ]
          },
          "metadata": {
            "tags": []
          },
          "execution_count": 21
        }
      ]
    },
    {
      "cell_type": "code",
      "metadata": {
        "id": "qnzGflSGiPC0",
        "colab": {
          "base_uri": "https://localhost:8080/"
        },
        "outputId": "05121d3f-3546-444c-e5c9-12c6d236fca6"
      },
      "source": [
        "# Sanity check: the number of sentences that belongs to each class\n",
        "for i in range(7):\n",
        "  print(len(intent_train[intent_train == i]))"
      ],
      "execution_count": null,
      "outputs": [
        {
          "output_type": "stream",
          "text": [
            "1842\n",
            "1873\n",
            "1900\n",
            "1900\n",
            "1856\n",
            "1854\n",
            "1859\n"
          ],
          "name": "stdout"
        }
      ]
    },
    {
      "cell_type": "markdown",
      "metadata": {
        "id": "nbY64mzriRb6"
      },
      "source": [
        "<img src=\"https://drive.google.com/uc?id=1i9qommblASpRkuJWCtyRo2E1xYd7IgfA\" height=\"200\">\n",
        "\n",
        "Great! This is the same as we found within the first notebook (screenshot of that output above)."
      ]
    },
    {
      "cell_type": "markdown",
      "metadata": {
        "id": "w6WNpz_1iZ1m"
      },
      "source": [
        "##### Exercise 3\n",
        "\n",
        "Lastly, we need to encode the intent labels for the validation and training sets as well."
      ]
    },
    {
      "cell_type": "code",
      "metadata": {
        "id": "YjouAdSiiRtp"
      },
      "source": [
        "# Create two variables named intent_valid and intent_test\n",
        "# Hint: look at how intent_train is defined a few cells above. \n",
        "intent_test = df_test[\"intent_label\"].map(intent_map).values\n",
        "intent_valid = df_valid[\"intent_label\"].map(intent_map).values\n",
        "### YOUR CODE HERE ###"
      ],
      "execution_count": null,
      "outputs": []
    },
    {
      "cell_type": "markdown",
      "metadata": {
        "id": "LBNRFoRIihgh"
      },
      "source": [
        "### Using a Pretrained BERT model\n",
        "\n",
        "Yay - we have all the pre-processing steps done! Now it's time to explore pretrained BERT. <img src=\"https://i.pinimg.com/originals/58/e9/78/58e97802c32da4c19d8429823c3201c2.jpg\" width=25>"
      ]
    },
    {
      "cell_type": "code",
      "metadata": {
        "id": "QdsPIw6Uih_d",
        "colab": {
          "base_uri": "https://localhost:8080/",
          "height": 386,
          "referenced_widgets": [
            "04d5b3c69d2e4257a2ae0284c33157a1",
            "6e61e207e4de49d4a2a430141eaa2bfc",
            "6c6b4c69f98641cebb080076eacfb335",
            "01e7ca10c2234ca1bd04362e70d02f37",
            "68085e59c7e844459cc6dbf40c8091b5",
            "ccac7714657e4625b9f76bec73f579d5",
            "58caf4d78a3a4525a7e5a930b8cfb0ce",
            "5a9ad7ab214f4eb8bc2b56b33cebbafc",
            "7576748115b946a4a27bdcf983c24c78",
            "7a0f47522a8545b39a65454515464f3b",
            "597719f1147d4f069d69ec3b44838a7e",
            "d1ce8a027dd34f2ba456b24f46fa509a",
            "d9e631a939fa466da2610ee3720e37ec",
            "52c5b7683beb46528293658f933eb656",
            "82f85279dfb64faca508ff04759d75b8",
            "d0dc7f2231314b89b92aa2a5c0931ddb"
          ]
        },
        "outputId": "1d7495bb-55f9-4c5a-a5d2-3a2e20cfdc46"
      },
      "source": [
        "from transformers import TFBertModel\n",
        "\n",
        "# recall that we earlier defined model_name to be \"bert-base-cased\"\n",
        "base_bert_model = TFBertModel.from_pretrained(model_name)\n",
        "base_bert_model.summary()"
      ],
      "execution_count": null,
      "outputs": [
        {
          "output_type": "display_data",
          "data": {
            "application/vnd.jupyter.widget-view+json": {
              "model_id": "04d5b3c69d2e4257a2ae0284c33157a1",
              "version_minor": 0,
              "version_major": 2
            },
            "text/plain": [
              "HBox(children=(FloatProgress(value=0.0, description='Downloading', max=570.0, style=ProgressStyle(description_…"
            ]
          },
          "metadata": {
            "tags": []
          }
        },
        {
          "output_type": "stream",
          "text": [
            "\n"
          ],
          "name": "stdout"
        },
        {
          "output_type": "display_data",
          "data": {
            "application/vnd.jupyter.widget-view+json": {
              "model_id": "7576748115b946a4a27bdcf983c24c78",
              "version_minor": 0,
              "version_major": 2
            },
            "text/plain": [
              "HBox(children=(FloatProgress(value=0.0, description='Downloading', max=526681800.0, style=ProgressStyle(descri…"
            ]
          },
          "metadata": {
            "tags": []
          }
        },
        {
          "output_type": "stream",
          "text": [
            "\n"
          ],
          "name": "stdout"
        },
        {
          "output_type": "stream",
          "text": [
            "Some layers from the model checkpoint at bert-base-cased were not used when initializing TFBertModel: ['nsp___cls', 'mlm___cls']\n",
            "- This IS expected if you are initializing TFBertModel from the checkpoint of a model trained on another task or with another architecture (e.g. initializing a BertForSequenceClassification model from a BertForPreTraining model).\n",
            "- This IS NOT expected if you are initializing TFBertModel from the checkpoint of a model that you expect to be exactly identical (initializing a BertForSequenceClassification model from a BertForSequenceClassification model).\n",
            "All the layers of TFBertModel were initialized from the model checkpoint at bert-base-cased.\n",
            "If your task is similar to the task the model of the checkpoint was trained on, you can already use TFBertModel for predictions without further training.\n"
          ],
          "name": "stderr"
        },
        {
          "output_type": "stream",
          "text": [
            "Model: \"tf_bert_model\"\n",
            "_________________________________________________________________\n",
            "Layer (type)                 Output Shape              Param #   \n",
            "=================================================================\n",
            "bert (TFBertMainLayer)       multiple                  108310272 \n",
            "=================================================================\n",
            "Total params: 108,310,272\n",
            "Trainable params: 108,310,272\n",
            "Non-trainable params: 0\n",
            "_________________________________________________________________\n"
          ],
          "name": "stdout"
        }
      ]
    },
    {
      "cell_type": "markdown",
      "metadata": {
        "id": "vumnko-qiy-F"
      },
      "source": [
        "Let's see what the pretrained BERT model outputs when we feed it our encoded validation set:"
      ]
    },
    {
      "cell_type": "code",
      "metadata": {
        "id": "jZEJmpSPjQyT",
        "colab": {
          "base_uri": "https://localhost:8080/"
        },
        "outputId": "bb4c19aa-1958-4edb-eac4-c84cd08cddd4"
      },
      "source": [
        "# Note: This cell might take a bit of time to run.\n",
        "outputs = base_bert_model(encoded_valid)\n",
        "len(outputs)"
      ],
      "execution_count": null,
      "outputs": [
        {
          "output_type": "execute_result",
          "data": {
            "text/plain": [
              "2"
            ]
          },
          "metadata": {
            "tags": []
          },
          "execution_count": 27
        }
      ]
    },
    {
      "cell_type": "code",
      "metadata": {
        "id": "FZVA5Cm7jTgU",
        "colab": {
          "base_uri": "https://localhost:8080/"
        },
        "outputId": "0256c7cd-a76e-44cf-e171-6445d15d94fc"
      },
      "source": [
        "print(encoded_valid.values())"
      ],
      "execution_count": null,
      "outputs": [
        {
          "output_type": "stream",
          "text": [
            "dict_values([array([[  101,   142, 13894, ...,     0,     0,     0],\n",
            "       [  101,  2825,   179, ...,     0,     0,     0],\n",
            "       [  101, 24930,  1181, ...,     0,     0,     0],\n",
            "       ...,\n",
            "       [  101,  1525,   170, ...,     0,     0,     0],\n",
            "       [  101,  4630,  1143, ...,     0,     0,     0],\n",
            "       [  101,  1327,  1159, ...,     0,     0,     0]], dtype=int32), array([[1, 1, 1, ..., 0, 0, 0],\n",
            "       [1, 1, 1, ..., 0, 0, 0],\n",
            "       [1, 1, 1, ..., 0, 0, 0],\n",
            "       ...,\n",
            "       [1, 1, 1, ..., 0, 0, 0],\n",
            "       [1, 1, 1, ..., 0, 0, 0],\n",
            "       [1, 1, 1, ..., 0, 0, 0]], dtype=int32)])\n"
          ],
          "name": "stdout"
        }
      ]
    },
    {
      "cell_type": "markdown",
      "metadata": {
        "id": "fQlDWVZdnYZZ"
      },
      "source": [
        "#### Outputs of BERT \n",
        "\n",
        "We can see that there are two outputs from the BERT model.\n",
        "\n",
        "\n",
        "1. The **first** output of the BERT model is a tensor with shape: `(batch_size, seq_len, output_dim)` which computes **features for each token in the input sequence**"
      ]
    },
    {
      "cell_type": "code",
      "metadata": {
        "id": "M5DDe2kanYy4",
        "colab": {
          "base_uri": "https://localhost:8080/"
        },
        "outputId": "678270aa-fe78-4040-e239-d49e79fa9f87"
      },
      "source": [
        "token_features = outputs[0]\n",
        "token_features.shape"
      ],
      "execution_count": null,
      "outputs": [
        {
          "output_type": "execute_result",
          "data": {
            "text/plain": [
              "TensorShape([700, 43, 768])"
            ]
          },
          "metadata": {
            "tags": []
          },
          "execution_count": 28
        }
      ]
    },
    {
      "cell_type": "markdown",
      "metadata": {
        "id": "WED3ODi-n5Zx"
      },
      "source": [
        "Note that `seq_len` is `max_token_len` (ie. 43)."
      ]
    },
    {
      "cell_type": "markdown",
      "metadata": {
        "id": "Ik14njDsn7Uf"
      },
      "source": [
        "\n",
        "2. \n",
        "\n",
        "The **second** output of the BERT model is a tensor with shape: `(batch_size, output_dim)` which is the feature vector of `[CLS]`. This vector is typically used as a **pooled representation for the sequence as a whole**. We can use this as the features of our intent classifier"
      ]
    },
    {
      "cell_type": "code",
      "metadata": {
        "id": "kxpxokzpnaVv",
        "colab": {
          "base_uri": "https://localhost:8080/"
        },
        "outputId": "4d184931-9041-4aa9-fc57-6ece203cc78f"
      },
      "source": [
        "sentence_representation = outputs[1]\n",
        "sentence_representation.shape"
      ],
      "execution_count": null,
      "outputs": [
        {
          "output_type": "execute_result",
          "data": {
            "text/plain": [
              "TensorShape([700, 768])"
            ]
          },
          "metadata": {
            "tags": []
          },
          "execution_count": 29
        }
      ]
    },
    {
      "cell_type": "markdown",
      "metadata": {
        "id": "EDNxGswlga65"
      },
      "source": [
        "Remember that our goal is to use BERT to compute some **representation** of a single voice command at a time. \n",
        "\n",
        "We have two options to obtain this sentence-level representation, which is used as the input for the final sequence classification layer:\n",
        "\n",
        "1. We can reuse the representation of the `[CLS]` token.\n",
        "\n",
        "or\n",
        "\n",
        "2. We can pool the representations (encodings) of all the tokens within the sequence (i.e. global average)."
      ]
    },
    {
      "cell_type": "markdown",
      "metadata": {
        "id": "S6Fh7rYXzhaK"
      },
      "source": [
        "#### Pooled Representation"
      ]
    },
    {
      "cell_type": "markdown",
      "metadata": {
        "id": "t3u4v-8In_KG"
      },
      "source": [
        "The pooled output comes from the application of a small multi-layer-perception (MLP) layer called the \"Pooler\" which is applied to the output representation of the special `[CLS]` token.\n",
        "\n",
        "<img src=\"https://miro.medium.com/max/3446/1*-IPQlOd46dlsutIbUq1Zcw.png\" width=300>"
      ]
    },
    {
      "cell_type": "code",
      "metadata": {
        "id": "qhZE-GFLn_7w",
        "colab": {
          "base_uri": "https://localhost:8080/"
        },
        "outputId": "d85253ba-37f0-4a33-e4dd-5ad7cf165ea7"
      },
      "source": [
        "base_bert_model.bert.pooler.dense"
      ],
      "execution_count": null,
      "outputs": [
        {
          "output_type": "execute_result",
          "data": {
            "text/plain": [
              "<tensorflow.python.keras.layers.core.Dense at 0x7f4a94015a50>"
            ]
          },
          "metadata": {
            "tags": []
          },
          "execution_count": 30
        }
      ]
    },
    {
      "cell_type": "code",
      "metadata": {
        "id": "lxopUQmroBXy",
        "colab": {
          "base_uri": "https://localhost:8080/"
        },
        "outputId": "06e8a75c-f7a2-4095-ddce-85f0312d0f3e"
      },
      "source": [
        "# Extract the features across all batches for the 0th ([CLS]) token \n",
        "first_token_states = token_features[:, 0]\n",
        "pooled_outputs = base_bert_model.bert.pooler.dense(first_token_states)\n",
        "pooled_outputs.shape"
      ],
      "execution_count": null,
      "outputs": [
        {
          "output_type": "execute_result",
          "data": {
            "text/plain": [
              "TensorShape([700, 768])"
            ]
          },
          "metadata": {
            "tags": []
          },
          "execution_count": 31
        }
      ]
    },
    {
      "cell_type": "markdown",
      "metadata": {
        "id": "VROGcIWBoFTL"
      },
      "source": [
        "Now let's double-check that taking this route of extracting all of the token features for `[CLS]` and passing it through the \"Pooler\" results in close to the same output as using simply the `sentence_representation`.\n",
        "\n",
        "Take a look at the [documentation](https://numpy.org/doc/1.18/reference/generated/numpy.allclose.html) for the `allclose` function used below if you're interested."
      ]
    },
    {
      "cell_type": "code",
      "metadata": {
        "id": "L0cjv9IMoCyY",
        "colab": {
          "base_uri": "https://localhost:8080/"
        },
        "outputId": "00319c97-c479-431d-db79-d557177c3895"
      },
      "source": [
        "np.allclose(pooled_outputs, sentence_representation)"
      ],
      "execution_count": null,
      "outputs": [
        {
          "output_type": "execute_result",
          "data": {
            "text/plain": [
              "True"
            ]
          },
          "metadata": {
            "tags": []
          },
          "execution_count": 32
        }
      ]
    },
    {
      "cell_type": "markdown",
      "metadata": {
        "id": "FDQc9ZhgoJkW"
      },
      "source": [
        "### Exercise 4\n",
        "\n",
        "Time to make classifications!\n",
        "\n",
        "Let's finish filling out the following code template to build and train a **sequence classification model** to predict the **intent class** of voice commands.\n",
        "\n",
        "Remember: we're currently only considering the pooled sentence features and ignoring the token-wise features for now.\n",
        "\n",
        "Documentation for a [Dropout](https://www.tensorflow.org/api_docs/python/tf/keras/layers/Dropout) and [Dense](https://www.tensorflow.org/api_docs/python/tf/keras/layers/Dense) layer."
      ]
    },
    {
      "cell_type": "code",
      "metadata": {
        "id": "Iw18sQdQoJzf",
        "colab": {
          "base_uri": "https://localhost:8080/",
          "height": 229
        },
        "outputId": "0ba54d9d-68a7-4aa2-83c9-a4cbff3fc184"
      },
      "source": [
        "import tensorflow as tf\n",
        "from transformers import TFBertModel\n",
        "from tensorflow.keras.layers import Dropout, Dense, GlobalAveragePooling1D\n",
        "from tensorflow.keras.optimizers import Adam\n",
        "from tensorflow.keras.losses import SparseCategoricalCrossentropy\n",
        "from tensorflow.keras.metrics import SparseCategoricalAccuracy\n",
        "\n",
        "\n",
        "class IntentClassificationModel(tf.keras.Model):\n",
        "\n",
        "    def __init__(self, intent_num_labels=None,\n",
        "                 dropout_prob=0.1):\n",
        "        super().__init__(name=\"intent_classifier\")\n",
        "\n",
        "        # Load the pretrained BERT model in the constructor\n",
        "        self.bert = base_bert_model\n",
        "\n",
        "        # TODO: Specify the dropout\n",
        "        self.dropout = Dropout(dropout_prob)  ### YOUR CODE HERE ###\n",
        "\n",
        "        # TODO: define a Dense classification layer which will compute\n",
        "        # the intent for each sequence in a batch. The number of \n",
        "        # output classes is given by the intent_num_labels parameter.\n",
        "        # Use the default linear activation (no softmax) to compute logits.\n",
        "        # The softmax normalization will be computed in the loss function\n",
        "        # instead of the model.\n",
        "        self.intent_classifier = Dense(intent_num_labels)  ### YOUR CODE HERE ###\n",
        "\n",
        "    def call(self, inputs, **kwargs):\n",
        "        # Use the pretrained model to extract features from our encoded inputs:\n",
        "        tokens_output, pooled_output = self.bert(inputs, **kwargs, return_dict=False)\n",
        "\n",
        "        # The second output of the main BERT layer has shape \n",
        "        # (batch_size, output_dim) and gives the pooled representation\n",
        "        # for the full sequence (from the hidden state corresponding to [CLS]).\n",
        "        pooled_output = self.dropout(pooled_output, \\\n",
        "                                     training=kwargs.get(\"training\", False))\n",
        "        \n",
        "        # TODO: use classifier layer to compute logits from pooled features.\n",
        "        intent_logits =   ### YOUR CODE HERE ###\n",
        "\n",
        "        return intent_logits\n",
        "\n",
        "# TODO: create an instantiation of this class and pass in the correct\n",
        "# parameter for intent_num_labels.\n",
        "intent_model = None  ### YOUR CODE HERE ###\n",
        "\n",
        "intent_model.compile(optimizer=Adam(learning_rate=3e-5, epsilon=1e-08),\n",
        "                     loss=SparseCategoricalCrossentropy(from_logits=True),\n",
        "                     metrics=[SparseCategoricalAccuracy('accuracy')], run_eagerly=True)"
      ],
      "execution_count": null,
      "outputs": [
        {
          "output_type": "error",
          "ename": "AttributeError",
          "evalue": "ignored",
          "traceback": [
            "\u001b[0;31m---------------------------------------------------------------------------\u001b[0m",
            "\u001b[0;31mAttributeError\u001b[0m                            Traceback (most recent call last)",
            "\u001b[0;32m<ipython-input-33-775fb67074bb>\u001b[0m in \u001b[0;36m<module>\u001b[0;34m()\u001b[0m\n\u001b[1;32m     45\u001b[0m \u001b[0mintent_model\u001b[0m \u001b[0;34m=\u001b[0m \u001b[0;32mNone\u001b[0m  \u001b[0;31m### YOUR CODE HERE ###\u001b[0m\u001b[0;34m\u001b[0m\u001b[0;34m\u001b[0m\u001b[0m\n\u001b[1;32m     46\u001b[0m \u001b[0;34m\u001b[0m\u001b[0m\n\u001b[0;32m---> 47\u001b[0;31m intent_model.compile(optimizer=Adam(learning_rate=3e-5, epsilon=1e-08),\n\u001b[0m\u001b[1;32m     48\u001b[0m                      \u001b[0mloss\u001b[0m\u001b[0;34m=\u001b[0m\u001b[0mSparseCategoricalCrossentropy\u001b[0m\u001b[0;34m(\u001b[0m\u001b[0mfrom_logits\u001b[0m\u001b[0;34m=\u001b[0m\u001b[0;32mTrue\u001b[0m\u001b[0;34m)\u001b[0m\u001b[0;34m,\u001b[0m\u001b[0;34m\u001b[0m\u001b[0;34m\u001b[0m\u001b[0m\n\u001b[1;32m     49\u001b[0m                      metrics=[SparseCategoricalAccuracy('accuracy')], run_eagerly=True)\n",
            "\u001b[0;31mAttributeError\u001b[0m: 'NoneType' object has no attribute 'compile'"
          ]
        }
      ]
    },
    {
      "cell_type": "code",
      "metadata": {
        "id": "FjHVILozos-K"
      },
      "source": [
        "# Train the model.\n",
        "# Note: this cell will take a bit of time to execute.\n",
        "history = intent_model.fit(encoded_train, intent_train, epochs=1, batch_size=32, \\\n",
        "                           validation_data=(encoded_valid, intent_valid))"
      ],
      "execution_count": null,
      "outputs": []
    },
    {
      "cell_type": "markdown",
      "metadata": {
        "id": "vr_1B13Xo8st"
      },
      "source": [
        "#### Softmax\n",
        "\n",
        "Note that this classification model outputs **logits** and we need the **probabilities** of each of the 7 classes being the true intent label.\n",
        "\n",
        "Recall that the softmax function turns an input vector of K real numbers into a normalized probability distribution consisting of K probabilities, proportional to the exponentials of the input numbers.\n",
        "\n",
        "<img src=\"https://miro.medium.com/max/1812/1*670CdxchunD-yAuUWdI7Bw.png\" width=400>\n",
        "\n",
        "For us, the final **softmax** normalization layer is included in the loss function instead of the model directly. \n",
        "\n",
        "That's why we need to configure the loss function `SparseCategoricalCrossentropy(from_logits=True)` accordingly above."
      ]
    },
    {
      "cell_type": "markdown",
      "metadata": {
        "id": "H8VnzpgMo_Jf"
      },
      "source": [
        "### Classification\n",
        "\n",
        "The last step to making predictions is writing a `classify` function that will use the `tokenizer` (from Step 1: Tokenize our Data) and the `intent_model` (from Exercise 4).\n",
        "\n",
        "The main point is choosing which of the 7 classes has the highest probability after the softmax."
      ]
    },
    {
      "cell_type": "code",
      "metadata": {
        "id": "sE9q5SL4o8-w"
      },
      "source": [
        "# Classification takes a voice command as input, as well as\n",
        "# the 7 possible classes (intent_names), and uses the BERT\n",
        "# tokenizer and the intent_model.\n",
        "def classify(text, intent_names):\n",
        "    inputs = tf.constant(tokenizer.encode(text))[None, :]  # batch_size = 1\n",
        "    class_id = intent_model(inputs).numpy().argmax(axis=1)[0]\n",
        "    return intent_names[class_id]"
      ],
      "execution_count": null,
      "outputs": []
    },
    {
      "cell_type": "markdown",
      "metadata": {
        "id": "pzNCHZycpC0J"
      },
      "source": [
        "Let's see how our classify function works on some examples!"
      ]
    },
    {
      "cell_type": "code",
      "metadata": {
        "id": "vh5Yj-8VpJag"
      },
      "source": [
        "classify(\"Book a table for two at La Tour d'Argent for Friday night.\", intent_names)"
      ],
      "execution_count": null,
      "outputs": []
    },
    {
      "cell_type": "code",
      "metadata": {
        "id": "IVO_ZZehpGQo"
      },
      "source": [
        "classify(\"I would like to listen to Anima by Thom Yorke.\", intent_names)"
      ],
      "execution_count": null,
      "outputs": []
    },
    {
      "cell_type": "code",
      "metadata": {
        "id": "vuR4AA4upKUU"
      },
      "source": [
        "classify(\"Will it snow tomorrow in Saclay?\", intent_names)"
      ],
      "execution_count": null,
      "outputs": []
    },
    {
      "cell_type": "code",
      "metadata": {
        "id": "b3JO9E3spNI4"
      },
      "source": [
        "classify(\"Where can I see to the last Star Wars near Odéon tonight?\", intent_names)"
      ],
      "execution_count": null,
      "outputs": []
    },
    {
      "cell_type": "markdown",
      "metadata": {
        "id": "fqmRD5-epOxl"
      },
      "source": [
        "Yay! These examples are all classified correctly. It's also impressive that we can achieve 98% accuracy on the validation set after training for only 1 epoch."
      ]
    },
    {
      "cell_type": "markdown",
      "metadata": {
        "id": "rfyKGhq5pRjQ"
      },
      "source": [
        "#### Error Analysis\n",
        "\n",
        "Let's do a brute force search through the testing set to qualitatively analyze the types of mistakes that our `intent_model` *is* making though.\n"
      ]
    },
    {
      "cell_type": "code",
      "metadata": {
        "id": "RMiCU58HpPRa"
      },
      "source": [
        "# Loop through each row in the pandas DF for the training set,\n",
        "# and print the sequence, predicted label, and correct label\n",
        "# if our classifier failed to predict the correct intent label.\n",
        "# Limit the output to only the first 20 errors.\n",
        "\n",
        "# Shuffle the dataframe (to look at diverse samples):\n",
        "df_test = df_test.sample(frac=1).reset_index(drop=True)\n",
        "\n",
        "error_count = 0\n",
        "for i in range(len(df_test)):\n",
        "  words = \" \".join(df_test[i:i+1][\"words\"].to_string().split(\" \")[4:])\n",
        "  predicted = classify(words, intent_names)\n",
        "  true = df_test[i:i+1][\"intent_label\"].to_string().split(\" \")[-1]\n",
        "\n",
        "  if predicted != true:\n",
        "    error_count += 1\n",
        "    print(\"Incorrectly predicted {} but the correct label is {} for the sequence {}.\" \\\n",
        "          .format(predicted, true, words))\n",
        "  if error_count == 20:\n",
        "    break"
      ],
      "execution_count": null,
      "outputs": []
    },
    {
      "cell_type": "markdown",
      "metadata": {
        "id": "ABkUb5k6pYUr"
      },
      "source": [
        "**Discuss**: Why do you think our classifier made these mistakes, and what could possibly improve the predictions?"
      ]
    }
  ]
}